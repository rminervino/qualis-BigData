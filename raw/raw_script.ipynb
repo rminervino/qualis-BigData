{
 "cells": [
  {
   "cell_type": "code",
   "execution_count": 1,
   "metadata": {},
   "outputs": [],
   "source": [
    "import os\n",
    "import pandas as pd\n",
    "import matplotlib.pyplot as plt\n",
    "from pyspark.sql import SparkSession\n",
    "from pyspark.sql.types import StructType, StructField,StringType, FloatType\n",
    "from pyspark import SparkContext, SparkConf\n",
    "from pyspark.sql.functions import create_map, struct, col, udf, desc"
   ]
  },
  {
   "cell_type": "code",
   "execution_count": 2,
   "metadata": {},
   "outputs": [],
   "source": [
    "import pyspark.sql.functions as F"
   ]
  },
  {
   "cell_type": "code",
   "execution_count": 3,
   "metadata": {},
   "outputs": [
    {
     "data": {
      "text/html": [
       "\n",
       "            <div>\n",
       "                <p><b>SparkSession - in-memory</b></p>\n",
       "                \n",
       "        <div>\n",
       "            <p><b>SparkContext</b></p>\n",
       "\n",
       "            <p><a href=\"http://192.168.0.107:4041\">Spark UI</a></p>\n",
       "\n",
       "            <dl>\n",
       "              <dt>Version</dt>\n",
       "                <dd><code>v2.4.1</code></dd>\n",
       "              <dt>Master</dt>\n",
       "                <dd><code>local[*]</code></dd>\n",
       "              <dt>AppName</dt>\n",
       "                <dd><code>QUALIS SPARK</code></dd>\n",
       "            </dl>\n",
       "        </div>\n",
       "        \n",
       "            </div>\n",
       "        "
      ],
      "text/plain": [
       "<pyspark.sql.session.SparkSession at 0x7f9831d6d240>"
      ]
     },
     "execution_count": 3,
     "metadata": {},
     "output_type": "execute_result"
    }
   ],
   "source": [
    "builder = SparkSession.builder.appName(\"QUALIS SPARK\")\n",
    "builder.config(\n",
    "    \"spark.hadoop.mapreduce.fileoutputcommitter.algorithm.version\", \"2\")\n",
    "builder.config(\"spark.speculation\", \"false\")\n",
    "builder.config(\"spark.sql.parquet.compression.codec\", \"gzip\")\n",
    "builder.config(\"spark.debug.maxToStringFields\", \"100\")\n",
    "builder.config(\"spark.driver.memory\", \"1g\")\n",
    "builder.config(\"spark.driver.cores\", \"1\")\n",
    "builder.config(\"spark.executor-memory\", \"20g\")\n",
    "builder.config(\"spark.executor.cores\", \"4\")\n",
    "\n",
    "\n",
    "builder.master(\"local[*]\")\n",
    "\n",
    "spark = builder.getOrCreate()\n",
    "spark"
   ]
  },
  {
   "cell_type": "code",
   "execution_count": 4,
   "metadata": {},
   "outputs": [],
   "source": [
    "RAW = './'\n",
    "MODELED = '../modeled/'"
   ]
  },
  {
   "cell_type": "code",
   "execution_count": 6,
   "metadata": {},
   "outputs": [],
   "source": [
    "file = spark.read.parquet(RAW+\"producao_qualis_computacao\")"
   ]
  },
  {
   "cell_type": "code",
   "execution_count": 9,
   "metadata": {},
   "outputs": [
    {
     "data": {
      "text/html": [
       "<div>\n",
       "<style scoped>\n",
       "    .dataframe tbody tr th:only-of-type {\n",
       "        vertical-align: middle;\n",
       "    }\n",
       "\n",
       "    .dataframe tbody tr th {\n",
       "        vertical-align: top;\n",
       "    }\n",
       "\n",
       "    .dataframe thead th {\n",
       "        text-align: right;\n",
       "    }\n",
       "</style>\n",
       "<table border=\"1\" class=\"dataframe\">\n",
       "  <thead>\n",
       "    <tr style=\"text-align: right;\">\n",
       "      <th></th>\n",
       "      <th>SG_ENTIDADE_ENSINO</th>\n",
       "      <th>AN_BASE_PRODUCAO</th>\n",
       "      <th>QUALIS</th>\n",
       "      <th>QTD_QUALIS</th>\n",
       "    </tr>\n",
       "  </thead>\n",
       "  <tbody>\n",
       "    <tr>\n",
       "      <th>0</th>\n",
       "      <td>CEFET/RJ</td>\n",
       "      <td>2016</td>\n",
       "      <td>B3</td>\n",
       "      <td>2</td>\n",
       "    </tr>\n",
       "    <tr>\n",
       "      <th>1</th>\n",
       "      <td>CEFET/RJ</td>\n",
       "      <td>2016</td>\n",
       "      <td>A2</td>\n",
       "      <td>6</td>\n",
       "    </tr>\n",
       "    <tr>\n",
       "      <th>2</th>\n",
       "      <td>CEFET/RJ</td>\n",
       "      <td>2016</td>\n",
       "      <td>B5</td>\n",
       "      <td>1</td>\n",
       "    </tr>\n",
       "    <tr>\n",
       "      <th>3</th>\n",
       "      <td>CEFET/RJ</td>\n",
       "      <td>2016</td>\n",
       "      <td>B1</td>\n",
       "      <td>1</td>\n",
       "    </tr>\n",
       "    <tr>\n",
       "      <th>4</th>\n",
       "      <td>CEFET/RJ</td>\n",
       "      <td>2016</td>\n",
       "      <td>C</td>\n",
       "      <td>3</td>\n",
       "    </tr>\n",
       "  </tbody>\n",
       "</table>\n",
       "</div>"
      ],
      "text/plain": [
       "  SG_ENTIDADE_ENSINO AN_BASE_PRODUCAO QUALIS  QTD_QUALIS\n",
       "0           CEFET/RJ             2016     B3           2\n",
       "1           CEFET/RJ             2016     A2           6\n",
       "2           CEFET/RJ             2016     B5           1\n",
       "3           CEFET/RJ             2016     B1           1\n",
       "4           CEFET/RJ             2016     C            3"
      ]
     },
     "execution_count": 9,
     "metadata": {},
     "output_type": "execute_result"
    }
   ],
   "source": [
    "filtered_file = file\\\n",
    "    .groupBy(\"SG_ENTIDADE_ENSINO\", \"AN_BASE_PRODUCAO\", \"QUALIS\")\\\n",
    "    .count().withColumnRenamed('count', 'QTD_QUALIS')\\\n",
    "    .orderBy(\"SG_ENTIDADE_ENSINO\")\n",
    "\n",
    "filtered_file.toPandas().head()"
   ]
  },
  {
   "cell_type": "code",
   "execution_count": 10,
   "metadata": {},
   "outputs": [],
   "source": [
    "#NPGeral = NPA(1) x 1,0 + NPA(2) x 0,85 + NPB(1) x 0,70 + NPB(2) x 0,50 + NPB(3) x 0,20 + NPB(4) x 0,10 + NPB(5) x 0,05\n",
    "def calculate_score(qualis):\n",
    "    score = 0.0\n",
    "    print(qualis)\n",
    "    if qualis == \"A1\":\n",
    "        score = 1.0\n",
    "    elif qualis == \"A2\":\n",
    "        score = 0.85\n",
    "    elif qualis == \"B1\":\n",
    "        score = 0.7\n",
    "    elif qualis == \"B2\":\n",
    "        score = 0.5\n",
    "    elif qualis == \"B3\":\n",
    "        score = 0.2\n",
    "    elif qualis == \"B4\":\n",
    "        score = 0.1\n",
    "    elif qualis == \"A2\":\n",
    "        score = 0.05\n",
    "    return score"
   ]
  },
  {
   "cell_type": "code",
   "execution_count": 11,
   "metadata": {},
   "outputs": [
    {
     "data": {
      "text/html": [
       "<div>\n",
       "<style scoped>\n",
       "    .dataframe tbody tr th:only-of-type {\n",
       "        vertical-align: middle;\n",
       "    }\n",
       "\n",
       "    .dataframe tbody tr th {\n",
       "        vertical-align: top;\n",
       "    }\n",
       "\n",
       "    .dataframe thead th {\n",
       "        text-align: right;\n",
       "    }\n",
       "</style>\n",
       "<table border=\"1\" class=\"dataframe\">\n",
       "  <thead>\n",
       "    <tr style=\"text-align: right;\">\n",
       "      <th></th>\n",
       "      <th>SG_ENTIDADE_ENSINO</th>\n",
       "      <th>AN_BASE_PRODUCAO</th>\n",
       "      <th>QUALIS</th>\n",
       "      <th>QTD_QUALIS</th>\n",
       "      <th>SCORE_CONSTANT</th>\n",
       "    </tr>\n",
       "  </thead>\n",
       "  <tbody>\n",
       "    <tr>\n",
       "      <th>0</th>\n",
       "      <td>CEFET/RJ</td>\n",
       "      <td>2016</td>\n",
       "      <td>B3</td>\n",
       "      <td>2</td>\n",
       "      <td>0.2</td>\n",
       "    </tr>\n",
       "    <tr>\n",
       "      <th>1</th>\n",
       "      <td>CEFET/RJ</td>\n",
       "      <td>2016</td>\n",
       "      <td>A2</td>\n",
       "      <td>6</td>\n",
       "      <td>0.85</td>\n",
       "    </tr>\n",
       "    <tr>\n",
       "      <th>2</th>\n",
       "      <td>CEFET/RJ</td>\n",
       "      <td>2016</td>\n",
       "      <td>B5</td>\n",
       "      <td>1</td>\n",
       "      <td>0.0</td>\n",
       "    </tr>\n",
       "    <tr>\n",
       "      <th>3</th>\n",
       "      <td>CEFET/RJ</td>\n",
       "      <td>2016</td>\n",
       "      <td>B1</td>\n",
       "      <td>1</td>\n",
       "      <td>0.7</td>\n",
       "    </tr>\n",
       "    <tr>\n",
       "      <th>4</th>\n",
       "      <td>CEFET/RJ</td>\n",
       "      <td>2016</td>\n",
       "      <td>C</td>\n",
       "      <td>3</td>\n",
       "      <td>0.0</td>\n",
       "    </tr>\n",
       "  </tbody>\n",
       "</table>\n",
       "</div>"
      ],
      "text/plain": [
       "  SG_ENTIDADE_ENSINO AN_BASE_PRODUCAO QUALIS  QTD_QUALIS SCORE_CONSTANT\n",
       "0           CEFET/RJ             2016     B3           2            0.2\n",
       "1           CEFET/RJ             2016     A2           6           0.85\n",
       "2           CEFET/RJ             2016     B5           1            0.0\n",
       "3           CEFET/RJ             2016     B1           1            0.7\n",
       "4           CEFET/RJ             2016     C            3            0.0"
      ]
     },
     "execution_count": 11,
     "metadata": {},
     "output_type": "execute_result"
    }
   ],
   "source": [
    "# NOTE: it seems that calls to udf() must be after SparkContext() is called\n",
    "udfCalculateScore = udf(calculate_score, StringType())\n",
    "file_with_partial_score = filtered_file\\\n",
    "    .withColumn(\"SCORE_CONSTANT\", udfCalculateScore(filtered_file['QUALIS']))\n",
    "\n",
    "file_with_partial_score.toPandas().head()"
   ]
  },
  {
   "cell_type": "code",
   "execution_count": 13,
   "metadata": {},
   "outputs": [
    {
     "data": {
      "text/html": [
       "<div>\n",
       "<style scoped>\n",
       "    .dataframe tbody tr th:only-of-type {\n",
       "        vertical-align: middle;\n",
       "    }\n",
       "\n",
       "    .dataframe tbody tr th {\n",
       "        vertical-align: top;\n",
       "    }\n",
       "\n",
       "    .dataframe thead th {\n",
       "        text-align: right;\n",
       "    }\n",
       "</style>\n",
       "<table border=\"1\" class=\"dataframe\">\n",
       "  <thead>\n",
       "    <tr style=\"text-align: right;\">\n",
       "      <th></th>\n",
       "      <th>SG_ENTIDADE_ENSINO</th>\n",
       "      <th>AN_BASE_PRODUCAO</th>\n",
       "      <th>QUALIS</th>\n",
       "      <th>QTD_QUALIS</th>\n",
       "      <th>SCORE_CONSTANT</th>\n",
       "      <th>SCORE</th>\n",
       "    </tr>\n",
       "  </thead>\n",
       "  <tbody>\n",
       "    <tr>\n",
       "      <th>0</th>\n",
       "      <td>CEFET/RJ</td>\n",
       "      <td>2016</td>\n",
       "      <td>B3</td>\n",
       "      <td>2</td>\n",
       "      <td>0.2</td>\n",
       "      <td>0.4</td>\n",
       "    </tr>\n",
       "    <tr>\n",
       "      <th>1</th>\n",
       "      <td>CEFET/RJ</td>\n",
       "      <td>2016</td>\n",
       "      <td>A2</td>\n",
       "      <td>6</td>\n",
       "      <td>0.85</td>\n",
       "      <td>5.1</td>\n",
       "    </tr>\n",
       "    <tr>\n",
       "      <th>2</th>\n",
       "      <td>CEFET/RJ</td>\n",
       "      <td>2016</td>\n",
       "      <td>B5</td>\n",
       "      <td>1</td>\n",
       "      <td>0.0</td>\n",
       "      <td>0.0</td>\n",
       "    </tr>\n",
       "    <tr>\n",
       "      <th>3</th>\n",
       "      <td>CEFET/RJ</td>\n",
       "      <td>2016</td>\n",
       "      <td>B1</td>\n",
       "      <td>1</td>\n",
       "      <td>0.7</td>\n",
       "      <td>0.7</td>\n",
       "    </tr>\n",
       "    <tr>\n",
       "      <th>4</th>\n",
       "      <td>CEFET/RJ</td>\n",
       "      <td>2016</td>\n",
       "      <td>C</td>\n",
       "      <td>3</td>\n",
       "      <td>0.0</td>\n",
       "      <td>0.0</td>\n",
       "    </tr>\n",
       "  </tbody>\n",
       "</table>\n",
       "</div>"
      ],
      "text/plain": [
       "  SG_ENTIDADE_ENSINO AN_BASE_PRODUCAO QUALIS  QTD_QUALIS SCORE_CONSTANT  SCORE\n",
       "0           CEFET/RJ             2016     B3           2            0.2    0.4\n",
       "1           CEFET/RJ             2016     A2           6           0.85    5.1\n",
       "2           CEFET/RJ             2016     B5           1            0.0    0.0\n",
       "3           CEFET/RJ             2016     B1           1            0.7    0.7\n",
       "4           CEFET/RJ             2016     C            3            0.0    0.0"
      ]
     },
     "execution_count": 13,
     "metadata": {},
     "output_type": "execute_result"
    }
   ],
   "source": [
    "file_final_score = file_with_partial_score\\\n",
    "    .withColumn(\"SCORE\", file_with_partial_score['QTD_QUALIS'] * file_with_partial_score['SCORE_CONSTANT'])\n",
    "\n",
    "file_final_score.toPandas().head()"
   ]
  },
  {
   "cell_type": "code",
   "execution_count": 14,
   "metadata": {},
   "outputs": [],
   "source": [
    "score_entidade_ano = file_final_score\\\n",
    "    .groupBy(\"SG_ENTIDADE_ENSINO\", \"AN_BASE_PRODUCAO\")\\\n",
    "    .agg(F.sum(\"SCORE\").alias(\"TOTAL_SCORE\"))\\\n",
    "    .orderBy(\"AN_BASE_PRODUCAO\", desc(\"TOTAL_SCORE\"))"
   ]
  },
  {
   "cell_type": "code",
   "execution_count": 16,
   "metadata": {},
   "outputs": [],
   "source": [
    "score_entidade_ano.write.mode(\"overwrite\").parquet(MODELED+\"score_entidade_ano\")"
   ]
  },
  {
   "cell_type": "code",
   "execution_count": null,
   "metadata": {},
   "outputs": [],
   "source": []
  }
 ],
 "metadata": {
  "kernelspec": {
   "display_name": "Python 3",
   "language": "python",
   "name": "python3"
  },
  "language_info": {
   "codemirror_mode": {
    "name": "ipython",
    "version": 3
   },
   "file_extension": ".py",
   "mimetype": "text/x-python",
   "name": "python",
   "nbconvert_exporter": "python",
   "pygments_lexer": "ipython3",
   "version": "3.6.8"
  }
 },
 "nbformat": 4,
 "nbformat_minor": 2
}
